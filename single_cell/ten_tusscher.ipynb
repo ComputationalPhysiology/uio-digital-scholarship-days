{
 "cells": [
  {
   "attachments": {},
   "cell_type": "markdown",
   "id": "bb2ba3dd",
   "metadata": {},
   "source": [
    "# ten Tusscher, Panfilov, 2006\n",
    "\n",
    "Source: https://models.physiomeproject.org/e/80d\n",
    "\n",
    "Model Structure\n",
    "ABSTRACT: Ventricular fibrillation (VF) is one of the main causes of death in the Western world. According to one hypothesis, the chaotic excitation dynamics during VF are the result of dynamical instabilities in action potential duration (APD) the occurrence of which requires that the slope of the APD restitution curve exceeds 1. Other factors such as electrotonic coupling and cardiac memory also determine whether these instabilities can develop. In this paper we study the conditions for alternans and spiral breakup in human cardiac tissue. Therefore, we develop a new version of our human ventricular cell model, which is based on recent experimental measurements of human APD restitution and includes a more extensive description of intracellular calcium dynamics. We apply this model to study the conditions for electrical instability in single cells, for reentrant waves in a ring of cells, and for reentry in two-dimensional sheets of ventricular tissue. We show that an important determinant for the onset of instability is the recovery dynamics of the fast sodium current. Slower sodium current recovery leads to longer periods of spiral wave rotation and more gradual conduction velocity restitution, both of which suppress restitution-mediated instability. As a result, maximum restitution slopes considerably exceeding 1 (up to 1.5) may be necessary for electrical instability to occur. Although slopes necessary for the onset of instabilities found in our study exceed 1, they are within the range of experimentally measured slopes. Therefore, we conclude that steep APD restitution-mediated instability is a potential mechanism for VF in the human heart.\n",
    "\n",
    "The original paper reference is cited below:\n",
    "\n",
    "Alternans and spiral breakup in a human ventricular tissue model, K.H.W.J. ten Tusscher, A.V. Panfilov, Sep 2006, American Journal of Physiology, Heart and Circulatory Physiology, 291 3, H1088-1100. PubMed ID: 16565318\n",
    "\n",
    "![_](https://models.physiomeproject.org/e/80d/tentusscher_2006.png)\n",
    "\n",
    "A schematic diagram describing the ion movement across the cell surface membrane and the sarcoplasmic reticulum, which are described by the Ten Tusscher et al. 2006 mathematical model of the human ventricular myocyte.\n",
    "\n",
    "## Running the model"
   ]
  },
  {
   "cell_type": "code",
   "execution_count": null,
   "id": "b1494293",
   "metadata": {},
   "outputs": [],
   "source": [
    "import utils\n",
    "import matplotlib.pyplot as plt\n",
    "import tqdm"
   ]
  },
  {
   "cell_type": "code",
   "execution_count": null,
   "id": "a290b104",
   "metadata": {},
   "outputs": [],
   "source": [
    "utils.list_ode_models()"
   ]
  },
  {
   "cell_type": "markdown",
   "id": "c0d34698",
   "metadata": {},
   "source": [
    "## Exercise\n",
    "Load the model and run it using the default settings. Use `t_start=0.0`, `t_end=1000.0` and `dt=0.1`\n",
    "Plot both the voltage (`V`) and the intracellular calcium concentraction (`Cai`)"
   ]
  },
  {
   "cell_type": "markdown",
   "id": "04d0ed1d",
   "metadata": {},
   "source": [
    "### Double click for solution\n",
    "\n",
    "\n",
    "<!--\n",
    "model_name = \"tentusscher_panfilov_2006_M_cell\"\n",
    "model = utils.load_model(model_name)\n",
    "\n",
    "# Print the states to find exact keys\n",
    "print(f\"{model.default_inital_states() = }\")\n",
    "# We want 'V' and 'Ca_i'\n",
    "\n",
    "t_start = 0.0\n",
    "t_end = 1000.0 # ms\n",
    "dt = 0.1 # 0.1 ms\n",
    "solution = model.solve(t_start=t_start, t_end=t_end, dt=dt)\n",
    "\n",
    "fig, ax = plt.subplots(2, 1, sharex=True, figsize=(8, 8))\n",
    "ax[0].plot(solution.time, solution[\"V\"])\n",
    "ax[1].plot(solution.time, solution[\"Ca_i\"])\n",
    "ax[0].set_ylabel(\"Volutage [mV]\")\n",
    "ax[1].set_ylabel(\"Caclium [mM]\")\n",
    "ax[1].set_xlabel(\"ms\")\n",
    "plt.show()\n",
    "-->"
   ]
  },
  {
   "cell_type": "code",
   "execution_count": null,
   "id": "fb713d0b",
   "metadata": {},
   "outputs": [],
   "source": []
  },
  {
   "cell_type": "code",
   "execution_count": null,
   "id": "0111e649",
   "metadata": {},
   "outputs": [],
   "source": []
  }
 ],
 "metadata": {
  "kernelspec": {
   "display_name": "Python 3",
   "language": "python",
   "name": "python3"
  },
  "language_info": {
   "codemirror_mode": {
    "name": "ipython",
    "version": 3
   },
   "file_extension": ".py",
   "mimetype": "text/x-python",
   "name": "python",
   "nbconvert_exporter": "python",
   "pygments_lexer": "ipython3",
   "version": "3.11.0 (main, Nov  8 2022, 12:58:54) [Clang 14.0.0 (clang-1400.0.29.202)]"
  },
  "vscode": {
   "interpreter": {
    "hash": "7983682d8fc0c3c395069480bceea9d75cae47dba6ba56620eaa7b53995d4444"
   }
  }
 },
 "nbformat": 4,
 "nbformat_minor": 5
}
