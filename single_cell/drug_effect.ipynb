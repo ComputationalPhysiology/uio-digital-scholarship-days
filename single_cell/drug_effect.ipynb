{
 "cells": [
  {
   "cell_type": "markdown",
   "id": "3605b87a",
   "metadata": {},
   "source": [
    "# Modeling drug effects"
   ]
  },
  {
   "cell_type": "code",
   "execution_count": null,
   "id": "da7bf76a",
   "metadata": {},
   "outputs": [],
   "source": [
    "import utils\n",
    "import matplotlib.pyplot as plt"
   ]
  },
  {
   "cell_type": "code",
   "execution_count": null,
   "id": "9a0d5547",
   "metadata": {},
   "outputs": [],
   "source": [
    "model_name = \"ORdmm_Land\"\n",
    "model = utils.load_model(model_name)"
   ]
  },
  {
   "cell_type": "code",
   "execution_count": null,
   "id": "54ee8fd2",
   "metadata": {},
   "outputs": [],
   "source": [
    "u0 = model.initial_state_values()\n",
    "num_beats = 10\n",
    "dt = 0.02\n",
    "t_start = 0.0\n",
    "t_end = 1000.0"
   ]
  },
  {
   "cell_type": "code",
   "execution_count": null,
   "id": "8dafb1be",
   "metadata": {},
   "outputs": [],
   "source": [
    "for i in range(num_beats):\n",
    "    control_solution = model.solve(t_start=t_start, t_end=t_end, dt=dt, u0=u0)\n",
    "    u0 = control_solution.u[-1, :]"
   ]
  },
  {
   "cell_type": "code",
   "execution_count": null,
   "id": "612f7b3a",
   "metadata": {},
   "outputs": [],
   "source": [
    "parameters = model.default_parameters()\n",
    "parameters[\"scale_IKr\"] = 2.0"
   ]
  },
  {
   "cell_type": "code",
   "execution_count": null,
   "id": "a16a2133",
   "metadata": {},
   "outputs": [],
   "source": [
    "for i in range(num_beats):\n",
    "    drug_solution = model.solve(t_start=t_start, t_end=t_end, dt=dt, u0=u0, parameters=parameters)\n",
    "    u0 = drug_solution.u[-1, :]"
   ]
  },
  {
   "cell_type": "code",
   "execution_count": null,
   "id": "cb89b182",
   "metadata": {},
   "outputs": [],
   "source": [
    "fig, ax = plt.subplots(3, 1, sharex=True, figsize=(8, 8))\n",
    "ax[0].plot(control_solution.time, control_solution[\"v\"], label=\"control\")\n",
    "ax[1].plot(control_solution.time, control_solution[\"cai\"], label=\"control\")\n",
    "ax[2].plot(control_solution.time, control_solution.monitored(\"IKr\"), label=\"control\")\n",
    "ax[0].plot(drug_solution.time, drug_solution[\"v\"], label=\"drug\")\n",
    "ax[1].plot(drug_solution.time, drug_solution[\"cai\"], label=\"drug\")\n",
    "ax[2].plot(drug_solution.time, drug_solution.monitored(\"IKr\"), label=\"drug\")\n",
    "\n",
    "ax[0].set_ylabel(\"Volutage [mV]\")\n",
    "ax[1].set_ylabel(\"Caclium [mM]\")\n",
    "ax[2].set_ylabel(\"IKr\")\n",
    "ax[2].set_xlabel(\"ms\")\n",
    "ax[0].legend()\n",
    "plt.show()"
   ]
  }
 ],
 "metadata": {
  "kernelspec": {
   "display_name": "Python 3 (ipykernel)",
   "language": "python",
   "name": "python3"
  },
  "language_info": {
   "codemirror_mode": {
    "name": "ipython",
    "version": 3
   },
   "file_extension": ".py",
   "mimetype": "text/x-python",
   "name": "python",
   "nbconvert_exporter": "python",
   "pygments_lexer": "ipython3",
   "version": "3.10.2"
  }
 },
 "nbformat": 4,
 "nbformat_minor": 5
}
