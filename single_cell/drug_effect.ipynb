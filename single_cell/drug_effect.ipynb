{
 "cells": [
  {
   "cell_type": "markdown",
   "id": "3605b87a",
   "metadata": {},
   "source": [
    "# Modeling drug effects\n",
    "\n",
    "In this notebook we will try to model drug effects, and we will focus on a few of the so called [CIPA drugs](https://cipaproject.org/wp-content/uploads/2016/05/CiPA-Compounds.pdf). These are characterised into *high*, *intermediate* and *low* risk.\n",
    "\n",
    "The way we model drug effects is to change some parameters in the model.\n",
    "\n",
    "We will use a libarary called [`drug-database`](https://computationalphysiology.github.io/drug-database/README.html) to get the scaling factors of the different drugs. This is a very simple library that just returns the scaling factors as a dictionary. Let us start by just listing the available drugs"
   ]
  },
  {
   "cell_type": "code",
   "execution_count": null,
   "id": "9769d31f",
   "metadata": {},
   "outputs": [],
   "source": [
    "import pprint\n",
    "import drug_database\n",
    "factors = drug_database.get_drug_factors()\n",
    "\n",
    "pprint.pprint(f\"Drugs: {list(factors.keys())}\")"
   ]
  },
  {
   "cell_type": "markdown",
   "id": "ab1b3a0e",
   "metadata": {},
   "source": [
    "Now let us focus our attention on a specific drug. Let us choose *Dofetilide* which is a high risk drug and print the factors:"
   ]
  },
  {
   "cell_type": "code",
   "execution_count": null,
   "id": "a592e695",
   "metadata": {},
   "outputs": [],
   "source": [
    "factors[\"Dofetilide\"]"
   ]
  },
  {
   "cell_type": "markdown",
   "id": "c47572fa",
   "metadata": {},
   "source": [
    "Here we get three different dictionaries, with keys `1`, `5` and `10`. The different numbers indicate the strength of the dose; higher values means higher dose. Note that useually the dose of a drug is measured molar concentration, but these numbers are normalized in a way that makes it easier to compare different drugs.\n",
    "\n",
    "Let us pick the factors for the dose corresponding to the value `1`, and plot them as a bar plot"
   ]
  },
  {
   "cell_type": "code",
   "execution_count": null,
   "id": "884443a6",
   "metadata": {},
   "outputs": [],
   "source": [
    "import matplotlib.pyplot as plt\n",
    "fig, ax = plt.subplots()\n",
    "ax.bar(factors[\"Dofetilide\"]['1'].keys(), factors[\"Dofetilide\"]['1'].values())\n",
    "ax.set_xticklabels(factors[\"Dofetilide\"]['1'].keys(), rotation=30)\n",
    "ax.grid()\n",
    "plt.show()"
   ]
  },
  {
   "cell_type": "markdown",
   "id": "f3933f7a",
   "metadata": {},
   "source": [
    "If one scaling factors is equal to 1.0 it means that the corresponding ion channel is not affected by the drug. I a value if smaller than 1.0 it means that the channel the blocked by the drug. In this case we see that this drug blocks the L-type Calcium channel.\n",
    "\n",
    "Let us see how we solve the model using these scaling factors. Let us first solve the model without any drug. This model will be reffered to as the control"
   ]
  },
  {
   "cell_type": "code",
   "execution_count": null,
   "id": "da7bf76a",
   "metadata": {},
   "outputs": [],
   "source": [
    "import utils"
   ]
  },
  {
   "cell_type": "code",
   "execution_count": null,
   "id": "9a0d5547",
   "metadata": {},
   "outputs": [],
   "source": [
    "model_name = \"ORdmm_Land\"\n",
    "model = utils.load_model(model_name)"
   ]
  },
  {
   "cell_type": "markdown",
   "id": "8ba646c7",
   "metadata": {},
   "source": [
    "We will solve the model for 10 beats"
   ]
  },
  {
   "cell_type": "code",
   "execution_count": null,
   "id": "54ee8fd2",
   "metadata": {},
   "outputs": [],
   "source": [
    "num_beats = 10\n",
    "dt = 0.02\n",
    "t_start = 0.0\n",
    "t_end = 1000.0"
   ]
  },
  {
   "cell_type": "code",
   "execution_count": null,
   "id": "8dafb1be",
   "metadata": {},
   "outputs": [],
   "source": [
    "u0 = model.initial_state_values()\n",
    "for i in range(num_beats):\n",
    "    control_solution = model.solve(t_start=t_start, t_end=t_end, dt=dt, u0=u0)\n",
    "    u0 = control_solution.u[-1, :]"
   ]
  },
  {
   "cell_type": "markdown",
   "id": "60b5448d",
   "metadata": {},
   "source": [
    "Now, we will apply the drug parameters"
   ]
  },
  {
   "cell_type": "code",
   "execution_count": null,
   "id": "612f7b3a",
   "metadata": {},
   "outputs": [],
   "source": [
    "parameters = model.default_parameters()\n",
    "parameters.update(factors[\"Dofetilide\"]['1'])\n",
    "pprint.pprint(parameters)"
   ]
  },
  {
   "cell_type": "code",
   "execution_count": null,
   "id": "a16a2133",
   "metadata": {},
   "outputs": [],
   "source": [
    "u0 = model.initial_state_values()\n",
    "for i in range(num_beats):\n",
    "    drug_solution = model.solve(t_start=t_start, t_end=t_end, dt=dt, u0=u0, parameters=parameters)\n",
    "    u0 = drug_solution.u[-1, :]"
   ]
  },
  {
   "cell_type": "markdown",
   "id": "ff2ee351",
   "metadata": {},
   "source": [
    "Now let us plot the corresponding voltage, intracellular calcium concentration and the current accross the L-type calcium channel"
   ]
  },
  {
   "cell_type": "code",
   "execution_count": null,
   "id": "cb89b182",
   "metadata": {},
   "outputs": [],
   "source": [
    "fig, ax = plt.subplots(3, 1, sharex=True, figsize=(8, 8))\n",
    "ax[0].plot(control_solution.time, control_solution[\"v\"], label=\"control\")\n",
    "ax[1].plot(control_solution.time, control_solution[\"cai\"], label=\"control\")\n",
    "ax[2].plot(control_solution.time, control_solution.monitored(\"ICaL\"), label=\"control\")\n",
    "ax[0].plot(drug_solution.time, drug_solution[\"v\"], label=\"drug\")\n",
    "ax[1].plot(drug_solution.time, drug_solution[\"cai\"], label=\"drug\")\n",
    "ax[2].plot(drug_solution.time, drug_solution.monitored(\"ICaL\"), label=\"drug\")\n",
    "\n",
    "ax[0].set_ylabel(\"Volutage [mV]\")\n",
    "ax[1].set_ylabel(\"Caclium [mM]\")\n",
    "ax[2].set_ylabel(\"ICaL\")\n",
    "ax[2].set_xlabel(\"ms\")\n",
    "ax[0].legend()\n",
    "plt.show()"
   ]
  },
  {
   "cell_type": "markdown",
   "id": "811fd741",
   "metadata": {},
   "source": [
    "## Excercise\n",
    "\n",
    "Compare the traces using different doses of the drug `Dofetilide`. How does this change the resulting traces?"
   ]
  },
  {
   "cell_type": "markdown",
   "id": "8b948beb",
   "metadata": {},
   "source": [
    "### Double click for solution\n",
    "\n",
    "<!--\n",
    "\n",
    "results = {\"control\": control_solution}\n",
    "\n",
    "for dose_name, dose_factors in factors[\"Dofetilide\"].items():\n",
    "    parameters = model.default_parameters()\n",
    "    parameters.update(dose_factors)\n",
    "    \n",
    "    u0 = model.initial_state_values()\n",
    "    for i in range(num_beats):\n",
    "        results[dose_name] = model.solve(t_start=t_start, t_end=t_end, dt=dt, u0=u0, parameters=parameters)\n",
    "        u0 = results[dose_name].u[-1, :]\n",
    "    \n",
    "fig, ax = plt.subplots(3, 1, sharex=True, figsize=(8, 8))\n",
    "for label, solution in results.items():\n",
    "    ax[0].plot(solution.time, solution[\"v\"], label=label)\n",
    "    ax[1].plot(solution.time, solution[\"cai\"], label=label)\n",
    "    ax[2].plot(solution.time, solution.monitored(\"ICaL\"), label=label)\n",
    "\n",
    "\n",
    "ax[0].set_ylabel(\"Volutage [mV]\")\n",
    "ax[1].set_ylabel(\"Caclium [mM]\")\n",
    "ax[2].set_ylabel(\"ICaL\")\n",
    "ax[2].set_xlabel(\"ms\")\n",
    "ax[0].legend()\n",
    "plt.show()\n",
    "\n",
    "-->"
   ]
  },
  {
   "cell_type": "code",
   "execution_count": null,
   "id": "b62b558b",
   "metadata": {},
   "outputs": [],
   "source": []
  },
  {
   "cell_type": "code",
   "execution_count": null,
   "id": "218d1af6",
   "metadata": {},
   "outputs": [],
   "source": []
  }
 ],
 "metadata": {
  "kernelspec": {
   "display_name": "Python 3 (ipykernel)",
   "language": "python",
   "name": "python3"
  },
  "language_info": {
   "codemirror_mode": {
    "name": "ipython",
    "version": 3
   },
   "file_extension": ".py",
   "mimetype": "text/x-python",
   "name": "python",
   "nbconvert_exporter": "python",
   "pygments_lexer": "ipython3",
   "version": "3.10.6"
  }
 },
 "nbformat": 4,
 "nbformat_minor": 5
}
