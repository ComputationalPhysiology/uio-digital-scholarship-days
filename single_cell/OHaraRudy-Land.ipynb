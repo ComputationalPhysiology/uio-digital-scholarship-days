{
 "cells": [
  {
   "cell_type": "markdown",
   "id": "e67cd300",
   "metadata": {},
   "source": [
    "## O'Hara Rudy Land"
   ]
  },
  {
   "cell_type": "code",
   "execution_count": null,
   "id": "cfc1de1a",
   "metadata": {},
   "outputs": [],
   "source": [
    "import utils\n",
    "import matplotlib.pyplot as plt\n",
    "import tqdm"
   ]
  },
  {
   "cell_type": "code",
   "execution_count": null,
   "id": "eadd530d",
   "metadata": {},
   "outputs": [],
   "source": [
    "model_name = \"ORdmm_Land\"\n",
    "model = utils.load_model(model_name)\n",
    "\n",
    "# Print the states to find exact keys\n",
    "print(f\"{model.default_inital_states() = }\")\n",
    "# We want 'V' and 'Ca_i'\n",
    "\n",
    "t_start = 0.0\n",
    "t_end = 1000.0 # ms\n",
    "dt = 0.1 # 0.1 ms\n",
    "solution = model.solve(t_start=t_start, t_end=t_end, dt=dt)\n",
    "\n",
    "fig, ax = plt.subplots(2, 1, sharex=True, figsize=(8, 8))\n",
    "ax[0].plot(solution.time, solution[\"v\"])\n",
    "ax[1].plot(solution.time, solution[\"cai\"])\n",
    "ax[0].set_ylabel(\"Volutage [mV]\")\n",
    "ax[1].set_ylabel(\"Caclium [mM]\")\n",
    "ax[1].set_xlabel(\"ms\")\n",
    "plt.show()"
   ]
  },
  {
   "cell_type": "code",
   "execution_count": null,
   "id": "af0dcd88",
   "metadata": {},
   "outputs": [],
   "source": [
    "model_name = \"ORdmm_Land_em_coupling\"\n",
    "model = utils.load_model(model_name)\n",
    "\n",
    "# Print the states to find exact keys\n",
    "print(f\"{model.default_inital_states() = }\")\n",
    "# We want 'V' and 'Ca_i'\n",
    "\n",
    "t_start = 0.0\n",
    "t_end = 1000.0 # ms\n",
    "dt = 0.1 # 0.1 ms\n",
    "solution = model.solve(t_start=t_start, t_end=t_end, dt=dt)\n",
    "\n",
    "fig, ax = plt.subplots(2, 1, sharex=True, figsize=(8, 8))\n",
    "ax[0].plot(solution.time, solution[\"v\"])\n",
    "ax[1].plot(solution.time, solution[\"cai\"])\n",
    "ax[0].set_ylabel(\"Volutage [mV]\")\n",
    "ax[1].set_ylabel(\"Caclium [mM]\")\n",
    "ax[1].set_xlabel(\"ms\")\n",
    "plt.show()"
   ]
  },
  {
   "cell_type": "code",
   "execution_count": null,
   "id": "285daa7d",
   "metadata": {},
   "outputs": [],
   "source": [
    "u0 = model.initial_state_values()\n",
    "num_beats = 10\n",
    "dt = 0.02\n",
    "t_start = 0.0\n",
    "t_end = 1000.0"
   ]
  },
  {
   "cell_type": "code",
   "execution_count": null,
   "id": "3028b779",
   "metadata": {},
   "outputs": [],
   "source": [
    "for i in tqdm.tqdm(range(num_beats)):\n",
    "    sol = model.solve(t_start=t_start, t_end=t_end, dt=dt, u0=u0)\n",
    "    u0 = sol.u[-1, :]"
   ]
  },
  {
   "cell_type": "code",
   "execution_count": null,
   "id": "c682baad",
   "metadata": {},
   "outputs": [],
   "source": [
    "fig, ax = plt.subplots(2, 1, sharex=True, figsize=(8, 8))\n",
    "ax[0].plot(solution.time, solution[\"v\"], label=\"beat 1\")\n",
    "ax[1].plot(solution.time, solution[\"cai\"], label=\"beat 1\")\n",
    "ax[0].plot(sol.time, sol[\"v\"], label=\"beat 10\")\n",
    "ax[1].plot(sol.time, sol[\"cai\"], label=\"beat 10\")\n",
    "ax[0].set_ylabel(\"Volutage [mV]\")\n",
    "ax[1].set_ylabel(\"Caclium [mM]\")\n",
    "ax[1].set_xlabel(\"ms\")\n",
    "plt.show()"
   ]
  },
  {
   "cell_type": "code",
   "execution_count": null,
   "id": "a892ec73",
   "metadata": {},
   "outputs": [],
   "source": [
    "print(sol.montior_keys())"
   ]
  },
  {
   "cell_type": "code",
   "execution_count": null,
   "id": "ba24d9ba",
   "metadata": {},
   "outputs": [],
   "source": [
    "IKr = sol.monitored(\"IKr\")\n",
    "fig, ax = plt.subplots()\n",
    "ax.plot(sol.time, IKr)\n",
    "plt.show()"
   ]
  },
  {
   "cell_type": "code",
   "execution_count": null,
   "id": "c8f29b90",
   "metadata": {},
   "outputs": [],
   "source": [
    "Ta = sol.monitored(\"Ta\")\n",
    "fig, ax = plt.subplots()\n",
    "ax.plot(sol.time, Ta)\n",
    "plt.show()"
   ]
  },
  {
   "cell_type": "code",
   "execution_count": null,
   "id": "a1f50948",
   "metadata": {},
   "outputs": [],
   "source": []
  }
 ],
 "metadata": {
  "kernelspec": {
   "display_name": "Python 3 (ipykernel)",
   "language": "python",
   "name": "python3"
  },
  "language_info": {
   "codemirror_mode": {
    "name": "ipython",
    "version": 3
   },
   "file_extension": ".py",
   "mimetype": "text/x-python",
   "name": "python",
   "nbconvert_exporter": "python",
   "pygments_lexer": "ipython3",
   "version": "3.10.6"
  }
 },
 "nbformat": 4,
 "nbformat_minor": 5
}
