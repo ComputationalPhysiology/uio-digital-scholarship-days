{
 "cells": [
  {
   "cell_type": "markdown",
   "id": "59e37f86",
   "metadata": {},
   "source": [
    "# Noble Model\n",
    "\n",
    "Source: https://models.physiomeproject.org/exposure/94599657138941a87600b8eaaf3a251f\n",
    "\n",
    "This model has been curated by both Penny Noble and James Lawson and is known to run in COR, JSim and OpenCell.\n",
    "\n",
    "This model is valid CellML and has consistent units\n",
    "\n",
    "Model Structure\n",
    "In 1962, Denis Noble published one of the first mathematical models of a cardiac cell. By adapting the equations of the original Hodgkin-Huxley squid axon model (1952), Noble described the long lasting action and pace-maker potentials of the Purkinje fibres of the heart. The potassium-current equations differ from those of Hodgkin and Huxley in that the potassium ions are assumed to flow through two types of channel in the membrane. By contrast, the sodium current equations are very similar to those of Hodgkin and Huxley.\n",
    "\n",
    "The main failure of the Noble (1962) model is that it only includes one voltage gated inward current, INa. Calcium currents had not yet been discovered, but there was a clue in the model that something was missing. The only way the model could be made to work was to greatly extend the voltage range of the sodium current by reducing the voltage dependence of the sodium activation process. In effect the sodium current was made to serve the function of both the sodium and the calcium channels as far as the plateau is concerned. There was a clear experimental prediction: either sodium channels in the heart are quantitatively different from those in neurons, or other inward current-carrying channels must exist. Both predictions are correct.\n",
    "\n",
    "The complete original paper reference is cited below:\n",
    "\n",
    "A Modification of the Hodgkin-Huxley Equations Applicable to Purkinje Fibre Action and Pace-maker Potentials, Noble, D. 1962 Journal of Physiology , 160, 317-352. PubMed ID: 14480151\n",
    "\n",
    "![_](https://models.physiomeproject.org/exposure/94599657138941a87600b8eaaf3a251f/hodgkin_1952.png)\n",
    "*A schematic cell diagram describing the current flows across the cell membrane that are captured in the Noble 1962 model. Note that this image is identical to the schematic diagram which describes the Hodgkin-Huxley 1952 model. This is because the Noble 1962 model is based on the HH 18952 model, and the ony differences are in the parameters of the model, and also the gating of the potassium channel - and these differences do not show in the schematic diagram.*\n",
    "\n",
    "## Running the model\n",
    "\n",
    "We will now demonstrate how to run the model. First we make some neccessary imports "
   ]
  },
  {
   "cell_type": "code",
   "execution_count": null,
   "id": "08dc4d4d",
   "metadata": {},
   "outputs": [],
   "source": [
    "import utils\n",
    "import matplotlib.pyplot as plt\n",
    "import tqdm"
   ]
  },
  {
   "cell_type": "markdown",
   "id": "2e68c5df",
   "metadata": {},
   "source": [
    "Next we need to load the Noble model. Let us first see which models that are available"
   ]
  },
  {
   "cell_type": "code",
   "execution_count": null,
   "id": "62cba1ce",
   "metadata": {},
   "outputs": [],
   "source": [
    "utils.list_ode_models()"
   ]
  },
  {
   "cell_type": "markdown",
   "id": "74639379",
   "metadata": {},
   "source": [
    "These files are written in a `.ode` format, which is a special markup language used for declaring ODEs. Let us take a look at the file called `noble_1962_version04.ode` which contains the Noble model"
   ]
  },
  {
   "cell_type": "code",
   "execution_count": null,
   "id": "123e5327",
   "metadata": {},
   "outputs": [],
   "source": [
    "model_name = \"noble_1962_version04\"\n",
    "print(utils.get_full_ode_path(model_name).read_text())"
   ]
  },
  {
   "cell_type": "markdown",
   "id": "b2d870a8",
   "metadata": {},
   "source": [
    "This file is converted a `.cellml` file downloaded from https://models.physiomeproject.org/exposure/94599657138941a87600b8eaaf3a251f to an `.ode` file using a tool called [`gotran`](https://github.com/ComputationalPhysiology/gotran). \n",
    "\n",
    "We can also use `gotran` to automatically generate C code for this model, and we can then compile this C code into a shared library that we can use in python. We can to this as follows"
   ]
  },
  {
   "cell_type": "code",
   "execution_count": null,
   "id": "57f45627",
   "metadata": {},
   "outputs": [],
   "source": [
    "model = utils.load_model(model_name)"
   ]
  },
  {
   "cell_type": "markdown",
   "id": "dcd995a9",
   "metadata": {},
   "source": [
    "Let us print the model"
   ]
  },
  {
   "cell_type": "code",
   "execution_count": null,
   "id": "4e60b87a",
   "metadata": {},
   "outputs": [],
   "source": [
    "print(model)"
   ]
  },
  {
   "cell_type": "markdown",
   "id": "e14fb1ca",
   "metadata": {},
   "source": [
    "We can also list the default parameters and initial states"
   ]
  },
  {
   "cell_type": "code",
   "execution_count": null,
   "id": "896fd1f1",
   "metadata": {},
   "outputs": [],
   "source": [
    "print(f\"{model.default_parameters() = }\")\n",
    "print(f\"{model.default_initial_states() = }\")"
   ]
  },
  {
   "cell_type": "markdown",
   "id": "57f9a325",
   "metadata": {},
   "source": [
    "We now want to solve the model. To do this we use the `model.solve` method. Let us first look at the documentation"
   ]
  },
  {
   "cell_type": "code",
   "execution_count": null,
   "id": "513c3299",
   "metadata": {},
   "outputs": [],
   "source": [
    "model.solve?"
   ]
  },
  {
   "cell_type": "markdown",
   "id": "20395456",
   "metadata": {},
   "source": [
    "Let us solve this model for 3 seconds with a time step of 0.1 millisecond"
   ]
  },
  {
   "cell_type": "code",
   "execution_count": null,
   "id": "937d98c5",
   "metadata": {},
   "outputs": [],
   "source": [
    "t_start = 0.0\n",
    "t_end = 3.0 # seconds\n",
    "dt = 1e-4  # 0.1 ms\n",
    "solution = model.solve(t_start=t_start, t_end=t_end, dt=dt)"
   ]
  },
  {
   "cell_type": "markdown",
   "id": "4ac08fc2",
   "metadata": {},
   "source": [
    "Now we can plot the resulting voltage"
   ]
  },
  {
   "cell_type": "code",
   "execution_count": null,
   "id": "9d06800e",
   "metadata": {},
   "outputs": [],
   "source": [
    "fig, ax = plt.subplots()\n",
    "ax.plot(solution.time, solution[\"V\"])\n",
    "plt.show()"
   ]
  },
  {
   "cell_type": "markdown",
   "id": "38d38e03",
   "metadata": {},
   "source": [
    "## Exercise - experiment with the solver\n",
    "Try to increase `dt` and see how this changes the results. "
   ]
  },
  {
   "cell_type": "markdown",
   "id": "585fc6b3",
   "metadata": {},
   "source": [
    "## Exercise - changing parameters\n",
    "\n",
    "The model has a parameter called `g_L` with a default value of 75.0. Change this parameter to 25.0 and solve the model with the same start and end time and the same time step. Plot the two solutions for V in the same plot for comparison"
   ]
  },
  {
   "cell_type": "markdown",
   "id": "11612ea5",
   "metadata": {},
   "source": [
    "### Double click for solution\n",
    "\n",
    "<!--\n",
    "parameters = model.default_parameters()\n",
    "parameters[\"g_L\"] = 25.0\n",
    "\n",
    "new_solution = model.solve(t_start=t_start, t_end=t_end, dt=dt, parameters=parameters)\n",
    "\n",
    "fig, ax = plt.subplots()\n",
    "ax.plot(solution.time, solution[\"V\"], label=\"$g_L=75.0$\")\n",
    "ax.plot(new_solution.time, new_solution[\"V\"], label=\"$g_L=25.0$\")\n",
    "ax.legend()\n",
    "plt.show()\n",
    "-->\n"
   ]
  },
  {
   "cell_type": "code",
   "execution_count": null,
   "id": "bdd7eb9b",
   "metadata": {},
   "outputs": [],
   "source": []
  }
 ],
 "metadata": {
  "kernelspec": {
   "display_name": "Python 3 (ipykernel)",
   "language": "python",
   "name": "python3"
  },
  "language_info": {
   "codemirror_mode": {
    "name": "ipython",
    "version": 3
   },
   "file_extension": ".py",
   "mimetype": "text/x-python",
   "name": "python",
   "nbconvert_exporter": "python",
   "pygments_lexer": "ipython3",
   "version": "3.10.6"
  }
 },
 "nbformat": 4,
 "nbformat_minor": 5
}
