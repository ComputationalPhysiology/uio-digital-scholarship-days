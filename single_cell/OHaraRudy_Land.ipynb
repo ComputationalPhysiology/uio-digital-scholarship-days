{
 "cells": [
  {
   "cell_type": "markdown",
   "id": "e67cd300",
   "metadata": {},
   "source": [
    "# O'Hara Rudy Land model\n",
    "\n",
    "In this notebook we will experiment with a more modern model of cardiac cells. This model [[1]][1] is a modified version of the O'Hara Rudy model [[2]][2]. It also incorporated the a model for the mechanics, known as the Land model [[3]][3].\n",
    "\n",
    "\n",
    "## References\n",
    "[1]: <https://doi.org/10.1021/acs.jcim.0c00201> \"Llopis-Lorente et. al\" \n",
    "[2]: <https://doi.org/10.1371/journal.pcbi.1002061> \"OHara-Rudy\"\n",
    "[3]: <https://doi.org/10.1016/j.yjmcc.2017.03.008> \"Land\"\n",
    "\n",
    "1. Llopis-Lorente, J., Gomis-Tena, J., Cano, J., Romero, L., Saiz, J., & Trenor, B. (2020). In silico classifiers for the assessment of drug proarrhythmicity. Journal of Chemical Information and Modeling, 60(10), 5172-5187.\"\n",
    "2. O'Hara, T., Virág, L., Varró, A., & Rudy, Y. (2011). Simulation of the undiseased human cardiac ventricular action potential: model formulation and experimental validation. PLoS computational biology, 7(5), e1002061.\n",
    "3. Land, S., Park-Holohan, S. J., Smith, N. P., Dos Remedios, C. G., Kentish, J. C., & Niederer, S. A. (2017). A model of cardiac contraction based on novel measurements of tension development in human cardiomyocytes. Journal of molecular and cellular cardiology, 106, 68-83."
   ]
  },
  {
   "cell_type": "markdown",
   "id": "de8dfe45",
   "metadata": {},
   "source": [
    "## Running the model\n",
    "\n",
    "Let us start by importing the necessary modules"
   ]
  },
  {
   "cell_type": "code",
   "execution_count": null,
   "id": "cfc1de1a",
   "metadata": {},
   "outputs": [],
   "source": [
    "import utils\n",
    "import matplotlib.pyplot as plt"
   ]
  },
  {
   "cell_type": "markdown",
   "id": "ba920f17",
   "metadata": {},
   "source": [
    "load the model"
   ]
  },
  {
   "cell_type": "code",
   "execution_count": null,
   "id": "eadd530d",
   "metadata": {},
   "outputs": [],
   "source": [
    "model_name = \"ORdmm_Land\"\n",
    "model = utils.load_model(model_name)"
   ]
  },
  {
   "cell_type": "markdown",
   "id": "f196c638",
   "metadata": {},
   "source": [
    "solve it for 1000 ms with a timestep of 0.1 ms"
   ]
  },
  {
   "cell_type": "code",
   "execution_count": null,
   "id": "44866e63",
   "metadata": {},
   "outputs": [],
   "source": [
    "t_start = 0.0\n",
    "t_end = 1000.0 # ms\n",
    "dt = 0.1 # 0.1 ms\n",
    "solution = model.solve(t_start=t_start, t_end=t_end, dt=dt)"
   ]
  },
  {
   "cell_type": "markdown",
   "id": "7f0f8ccf",
   "metadata": {},
   "source": [
    "and plot the voltage and intracellular calcium concentration"
   ]
  },
  {
   "cell_type": "code",
   "execution_count": null,
   "id": "0cdba032",
   "metadata": {},
   "outputs": [],
   "source": [
    "fig, ax = plt.subplots(2, 1, sharex=True, figsize=(8, 8))\n",
    "ax[0].plot(solution.time, solution[\"v\"])\n",
    "ax[1].plot(solution.time, solution[\"cai\"])\n",
    "ax[0].set_ylabel(\"Volutage [mV]\")\n",
    "ax[1].set_ylabel(\"Caclium [mM]\")\n",
    "ax[1].set_xlabel(\"ms\")\n",
    "plt.show()"
   ]
  },
  {
   "cell_type": "markdown",
   "id": "3867118a",
   "metadata": {},
   "source": [
    "To see the available state variables to use do the following"
   ]
  },
  {
   "cell_type": "code",
   "execution_count": null,
   "id": "f7b83e4e",
   "metadata": {},
   "outputs": [],
   "source": [
    "# Print the states and the default values to find exact keys\n",
    "initial_states = model.default_initial_states()\n",
    "print(f\"{initial_states = }\")"
   ]
  },
  {
   "cell_type": "markdown",
   "id": "3c172669",
   "metadata": {},
   "source": [
    "When actually solving the model we need the provide the states as a numpy array. You can get the default initial states as arrays using"
   ]
  },
  {
   "cell_type": "code",
   "execution_count": null,
   "id": "012c89c9",
   "metadata": {},
   "outputs": [],
   "source": [
    "u0 = model.initial_state_values()\n",
    "print(u0)"
   ]
  },
  {
   "cell_type": "markdown",
   "id": "1c406f25",
   "metadata": {},
   "source": [
    "But you can also convert the dictionary of values to a numpy array where the values are in the correct order"
   ]
  },
  {
   "cell_type": "code",
   "execution_count": null,
   "id": "929deb09",
   "metadata": {},
   "outputs": [],
   "source": [
    "print(model.state_dict_to_array(initial_states))"
   ]
  },
  {
   "cell_type": "markdown",
   "id": "fc395ee5",
   "metadata": {},
   "source": [
    "To solve the model for multiple beats we can update the initial states in each iteration as follows"
   ]
  },
  {
   "cell_type": "code",
   "execution_count": null,
   "id": "285daa7d",
   "metadata": {},
   "outputs": [],
   "source": [
    "num_beats = 10\n",
    "dt = 0.02\n",
    "t_start = 0.0\n",
    "t_end = 1000.0\n",
    "for i in range(num_beats):\n",
    "    sol = model.solve(t_start=t_start, t_end=t_end, dt=dt, u0=u0)\n",
    "    u0 = sol.u[-1, :]"
   ]
  },
  {
   "cell_type": "markdown",
   "id": "4b8c99ed",
   "metadata": {},
   "source": [
    "and we can see that by running the model for more beats it is actually changing quite a bit"
   ]
  },
  {
   "cell_type": "code",
   "execution_count": null,
   "id": "c682baad",
   "metadata": {},
   "outputs": [],
   "source": [
    "fig, ax = plt.subplots(2, 1, sharex=True, figsize=(8, 8))\n",
    "ax[0].plot(solution.time, solution[\"v\"], label=\"beat 1\")\n",
    "ax[1].plot(solution.time, solution[\"cai\"], label=\"beat 1\")\n",
    "ax[0].plot(sol.time, sol[\"v\"], label=\"beat 10\")\n",
    "ax[1].plot(sol.time, sol[\"cai\"], label=\"beat 10\")\n",
    "ax[0].set_ylabel(\"Volutage [mV]\")\n",
    "ax[1].set_ylabel(\"Caclium [mM]\")\n",
    "ax[1].set_xlabel(\"ms\")\n",
    "plt.show()"
   ]
  },
  {
   "cell_type": "markdown",
   "id": "18b937cb",
   "metadata": {},
   "source": [
    "The reason for this is that we have not yet reached a steady state\n",
    "\n",
    "## Exercise\n",
    "Try to find out how many beats do you need to use before reaching steady state by plotting the solutions for different beats"
   ]
  },
  {
   "cell_type": "markdown",
   "id": "7e6c2642",
   "metadata": {},
   "source": [
    "### Double click for solution\n",
    "\n",
    "<!--\n",
    "\n",
    "fig, ax = plt.subplots(2, 1, sharex=True, figsize=(8, 8))\n",
    "\n",
    "num_beats = 150\n",
    "u0 = model.initial_state_values()\n",
    "for i in range(num_beats):\n",
    "    sol = model.solve(t_start=t_start, t_end=t_end, dt=dt, u0=u0)\n",
    "    u0 = sol.u[-1, :]\n",
    "    # Plot every 20th beat\n",
    "    if i % 20 == 0:\n",
    "        ax[0].plot(sol.time, sol[\"v\"], label=f\"beat {i}\")\n",
    "        ax[1].plot(sol.time, sol[\"cai\"], label=f\"beat {i}\")\n",
    "\n",
    "ax[0].legend()\n",
    "ax[0].set_ylabel(\"Volutage [mV]\")\n",
    "ax[1].set_ylabel(\"Caclium [mM]\")\n",
    "ax[1].set_xlabel(\"ms\")\n",
    "plt.show()\n",
    "# Solution seems to be fairly stable after beat 100\n",
    "\n",
    "-->"
   ]
  },
  {
   "cell_type": "code",
   "execution_count": null,
   "id": "1ec5865e",
   "metadata": {},
   "outputs": [],
   "source": []
  },
  {
   "cell_type": "markdown",
   "id": "fcb8cf09",
   "metadata": {},
   "source": [
    "## Extracting other values from the model\n",
    "The voltage and intracellular calcium concentration are examples of state variables in the mode. However, in the model we also have other expressions that are not states, for example currents, that are interesting to plot. We refer to these expressions as monitored expressions. We can list the names of the monitored expressions in the model using the following code"
   ]
  },
  {
   "cell_type": "code",
   "execution_count": null,
   "id": "a892ec73",
   "metadata": {},
   "outputs": [],
   "source": [
    "print(sol.montior_keys())\n",
    "print([n for n in sol.montior_keys() if n.startswith(\"I\")])"
   ]
  },
  {
   "cell_type": "markdown",
   "id": "5e17a351",
   "metadata": {},
   "source": [
    "One example could be the `IKr` current. This current is very important to control the duration of the action potential and the channel where this current flow is a common channel to target when designing drugs which we will look at in another notebook.\n",
    "\n",
    "To plot this current we can do the following"
   ]
  },
  {
   "cell_type": "code",
   "execution_count": null,
   "id": "ba24d9ba",
   "metadata": {},
   "outputs": [],
   "source": [
    "IKr = sol.monitored(\"IKr\")\n",
    "fig, ax = plt.subplots()\n",
    "ax.plot(sol.time, IKr)\n",
    "plt.show()"
   ]
  },
  {
   "cell_type": "markdown",
   "id": "a0894fb4",
   "metadata": {},
   "source": [
    "As mentioned in the very beginning, the model also has a mechanical component. In short, release of calcium in the cells makes the call contract and this in turn generate an active tension. From this model, the active tension is called `Ta` which is also one of the monitored expressions."
   ]
  },
  {
   "cell_type": "code",
   "execution_count": null,
   "id": "c8f29b90",
   "metadata": {},
   "outputs": [],
   "source": [
    "Ta = sol.monitored(\"Ta\")\n",
    "fig, ax = plt.subplots()\n",
    "ax.plot(sol.time, Ta)\n",
    "ax.set_ylabel(\"Pa\")\n",
    "plt.show()"
   ]
  },
  {
   "cell_type": "markdown",
   "id": "a4f89ec0",
   "metadata": {},
   "source": [
    "The shape of `Ta` is very similar to the intracellular calcium concentration (because it is very tightly coupled to the release of calcium inside the cell). However, the unit of `Ta` is pascal, meaning that it reflect the amount of stress generated by the active contraction.  "
   ]
  },
  {
   "cell_type": "markdown",
   "id": "5ddccb99",
   "metadata": {},
   "source": [
    "## Exercise\n",
    "\n",
    "In this exercise we will look at the different currents in this model. The name of the current are "
   ]
  },
  {
   "cell_type": "code",
   "execution_count": null,
   "id": "fbc00f79",
   "metadata": {},
   "outputs": [],
   "source": [
    "current_names = [\n",
    "    'INa', 'INaL', 'Ito', 'ICaL', 'ICaNa', 'ICaK', 'IKr', 'IKs', 'IK1', 'INaCa_i', \n",
    "    'INaCa_ss', 'INaK', 'IKb', 'INab', 'ICab', 'IpCa', 'Isac_P_ns', 'Isac_P_k', 'Istim'\n",
    "]"
   ]
  },
  {
   "cell_type": "markdown",
   "id": "0f1056dd",
   "metadata": {},
   "source": [
    "Plot all the currents in on figure in order to see which currents are active in which part of the action potential.\n",
    "Try to sum up all the contributions of the currents into a new array and compare this with the negative membrane potential."
   ]
  },
  {
   "cell_type": "markdown",
   "id": "8b72e18f",
   "metadata": {},
   "source": [
    "### Double click for solution\n",
    "\n",
    "<!--\n",
    "\n",
    "import numpy as np\n",
    "\n",
    "currents = {name: sol.monitored(name) for name in current_names}\n",
    "\n",
    "fig, ax = plt.subplots(2, 1, figsize=(12, 8))\n",
    "new_arr = np.zeros_like(sol.time)\n",
    "for name, arr in currents.items():\n",
    "    ax[0].plot(sol.time, arr, label=name)\n",
    "    new_arr -= arr\n",
    "ax[0].set_ylim(-2.0, 2.0)\n",
    "ax[1].plot(sol.time, np.cumsum(new_arr) * dt + initial_states[\"v\"], label=\"Sum of currents\")\n",
    "ax[1].plot(sol.time, sol[\"v\"], 'k--', label=\"Voltage\")\n",
    "plt.show()\n",
    "\n",
    "-->"
   ]
  },
  {
   "cell_type": "code",
   "execution_count": null,
   "id": "76abe8f4",
   "metadata": {},
   "outputs": [],
   "source": []
  }
 ],
 "metadata": {
  "kernelspec": {
   "display_name": "Python 3 (ipykernel)",
   "language": "python",
   "name": "python3"
  },
  "language_info": {
   "codemirror_mode": {
    "name": "ipython",
    "version": 3
   },
   "file_extension": ".py",
   "mimetype": "text/x-python",
   "name": "python",
   "nbconvert_exporter": "python",
   "pygments_lexer": "ipython3",
   "version": "3.10.6"
  }
 },
 "nbformat": 4,
 "nbformat_minor": 5
}
