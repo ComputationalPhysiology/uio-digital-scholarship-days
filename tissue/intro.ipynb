{
 "cells": [
  {
   "cell_type": "markdown",
   "id": "a1ccc8bb",
   "metadata": {},
   "source": [
    "# Tissue level Electro mechanical simulations using `simcardems`"
   ]
  },
  {
   "cell_type": "code",
   "execution_count": null,
   "id": "f5b8bb81",
   "metadata": {},
   "outputs": [],
   "source": [
    "import simcardems"
   ]
  }
 ],
 "metadata": {
  "kernelspec": {
   "display_name": "Python 3 (ipykernel)",
   "language": "python",
   "name": "python3"
  },
  "language_info": {
   "codemirror_mode": {
    "name": "ipython",
    "version": 3
   },
   "file_extension": ".py",
   "mimetype": "text/x-python",
   "name": "python",
   "nbconvert_exporter": "python",
   "pygments_lexer": "ipython3",
   "version": "3.10.6"
  }
 },
 "nbformat": 4,
 "nbformat_minor": 5
}
