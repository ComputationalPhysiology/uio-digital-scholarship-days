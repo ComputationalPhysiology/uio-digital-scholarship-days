{
 "cells": [
  {
   "attachments": {},
   "cell_type": "markdown",
   "id": "a1ccc8bb",
   "metadata": {},
   "source": [
    "# Tissue level Electro mechanical simulations using `simcardems`\n",
    "\n",
    "TODO: Write about `simcardems` and link to [documentation](https://computationalphysiology.github.io/simcardems/)\n"
   ]
  }
 ],
 "metadata": {
  "kernelspec": {
   "display_name": "Python 3",
   "language": "python",
   "name": "python3"
  },
  "language_info": {
   "codemirror_mode": {
    "name": "ipython",
    "version": 3
   },
   "file_extension": ".py",
   "mimetype": "text/x-python",
   "name": "python",
   "nbconvert_exporter": "python",
   "pygments_lexer": "ipython3",
   "version": "3.11.0 (main, Nov  8 2022, 12:58:54) [Clang 14.0.0 (clang-1400.0.29.202)]"
  },
  "vscode": {
   "interpreter": {
    "hash": "7983682d8fc0c3c395069480bceea9d75cae47dba6ba56620eaa7b53995d4444"
   }
  }
 },
 "nbformat": 4,
 "nbformat_minor": 5
}
